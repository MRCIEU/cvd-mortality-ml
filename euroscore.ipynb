{
 "cells": [
  {
   "cell_type": "code",
   "execution_count": 1,
   "metadata": {},
   "outputs": [],
   "source": [
    "import pandas as pd\n",
    "import numpy as np\n",
    "import seaborn as sns; sns.set()\n",
    "import matplotlib.pyplot as plt\n",
    "from sklearn.metrics import r2_score, brier_score_loss\n",
    "from sklearn import metrics\n",
    "from sklearn.calibration import CalibratedClassifierCV, calibration_curve"
   ]
  },
  {
   "cell_type": "markdown",
   "metadata": {},
   "source": [
    "## Read in data\n",
    "This is the output from feature_selection notebook"
   ]
  },
  {
   "cell_type": "code",
   "execution_count": 2,
   "metadata": {},
   "outputs": [],
   "source": [
    "euroscore_i = pd.read_csv(\"test.esi.features.17.02.20.csv\", index_col=0)\n",
    "euroscore_ii = pd.read_csv(\"test.esii.features.17.02.20.csv\", index_col=0)\n",
    "\n",
    "es_i_additive_supplied = pd.read_csv(\"Euroscore_additive.17.02.20.csv\", index_col=0)\n",
    "es_i_logistic_supplied = pd.read_csv(\"Euroscore_logistic.17.02.20.csv\", index_col=0)"
   ]
  },
  {
   "cell_type": "markdown",
   "metadata": {},
   "source": [
    "### Additive model"
   ]
  },
  {
   "cell_type": "code",
   "execution_count": 3,
   "metadata": {},
   "outputs": [],
   "source": [
    "def calculate_euroscore_i_additive(row):\n",
    "    result = 0\n",
    "    \n",
    "    if row['Age (continuous)'] > 60:\n",
    "        result += (row['Age (continuous)'] - 60) / 5\n",
    "    \n",
    "    if row['Female']:\n",
    "        result += 1\n",
    "    \n",
    "    if row['Pulmonary disease']:\n",
    "        result += 1\n",
    "    \n",
    "    if row['Extracardiac arteriopathy']:\n",
    "        result += 2\n",
    "        \n",
    "    if row['Neurological dysfunction']:\n",
    "        result += 2\n",
    "    \n",
    "    if row['Previous cardiac surgery']:\n",
    "        result += 3\n",
    "    \n",
    "    if row['Serum creatinine >200 µmol/l']:\n",
    "        result += 2\n",
    "        \n",
    "    if row['Active endocarditis']:\n",
    "        result += 3\n",
    "    \n",
    "    if row['Critical preoperative state']:\n",
    "        result += 3\n",
    "        \n",
    "    return result"
   ]
  },
  {
   "cell_type": "code",
   "execution_count": 4,
   "metadata": {},
   "outputs": [],
   "source": [
    "es_i_additive = []\n",
    "for index, row in euroscore_i.iterrows():\n",
    "    es_i_additive.append(calculate_euroscore_i_additive(row))\n",
    "assert len(es_i_additive) == euroscore_i.shape[0]\n",
    "es_i_additive = pd.DataFrame(es_i_additive, index=euroscore_i.index, columns=['es_i_additive'])\n",
    "assert euroscore_i.shape[0] == es_i_additive.shape[0]"
   ]
  },
  {
   "cell_type": "code",
   "execution_count": 5,
   "metadata": {},
   "outputs": [
    {
     "data": {
      "text/plain": [
       "<seaborn.axisgrid.FacetGrid at 0x1ee22e3f748>"
      ]
     },
     "execution_count": 5,
     "metadata": {},
     "output_type": "execute_result"
    },
    {
     "data": {
      "image/png": "[encoded data removed]",
      "text/plain": [
       "<Figure size 360x360 with 1 Axes>"
      ]
     },
     "metadata": {
      "needs_background": "light"
     },
     "output_type": "display_data"
    }
   ],
   "source": [
    "# plot calculated euroscore I additive against provided values\n",
    "scores = pd.concat([es_i_additive_supplied['Euroscore'], es_i_additive], axis=1)\n",
    "scores = scores.dropna(axis='index')\n",
    "sns.lmplot(y=\"Euroscore\", x=\"es_i_additive\", data=scores)"
   ]
  },
  {
   "cell_type": "code",
   "execution_count": 6,
   "metadata": {},
   "outputs": [
    {
     "data": {
      "text/plain": [
       "-0.017246149453614912"
      ]
     },
     "execution_count": 6,
     "metadata": {},
     "output_type": "execute_result"
    }
   ],
   "source": [
    "# r2 for calculated euroscore I additive against provided values\n",
    "r2_score(scores['Euroscore'], scores['es_i_additive'])"
   ]
  },
  {
   "cell_type": "markdown",
   "metadata": {},
   "source": [
    "### ESI Logistic model"
   ]
  },
  {
   "cell_type": "code",
   "execution_count": 7,
   "metadata": {},
   "outputs": [],
   "source": [
    "def calculate_euroscore_i_logistic(row):\n",
    "    result = 0\n",
    "    \n",
    "    if row['Age (continuous)'] < 60:\n",
    "        result += 0.0666354\n",
    "    else:\n",
    "        (row['Age (continuous)'] - 59) * 0.0666354\n",
    "    \n",
    "    if row['Female']:\n",
    "        result += 0.3304052\n",
    "    \n",
    "    if row['Pulmonary disease']:\n",
    "        result += 0.4931341\n",
    "    \n",
    "    if row['Extracardiac arteriopathy']:\n",
    "        result += 0.6558917\n",
    "        \n",
    "    if row['Neurological dysfunction']:\n",
    "        result += 0.841626\n",
    "    \n",
    "    if row['Previous cardiac surgery']:\n",
    "        result += 1.002625\n",
    "    \n",
    "    if row['Serum creatinine >200 µmol/l']:\n",
    "        result += 0.6521653\n",
    "        \n",
    "    if row['Active endocarditis']:\n",
    "        result += 1.101265\n",
    "    \n",
    "    if row['Critical preoperative state']:\n",
    "        result += 0.9058132\n",
    "    \n",
    "    if row['Recent myocardial infarct']:\n",
    "        result += 0.5460218\n",
    "    \n",
    "    if row['LVEF 30–50%']:\n",
    "        result += 0.4191643\n",
    "    \n",
    "    if row['LVEF <30%']:\n",
    "        result +=  1.094443\n",
    "        \n",
    "    if row['Systolic pulmonary pressure >60 mmHg']:\n",
    "        result += 0.7676924\n",
    "        \n",
    "    if row['Unstable angina']:\n",
    "        result += 0.5677075\n",
    "        \n",
    "    if row['Emergency operation']:\n",
    "        result += 0.7127953\n",
    "        \n",
    "    if row['Ventricular septal rupture']:\n",
    "        result +=  1.462009\n",
    "        \n",
    "    if row['Other than isolated coronary surgery']:\n",
    "        result += 0.5420364\n",
    "        \n",
    "    if row['Thoracic aortic surgery']:\n",
    "        result += 1.159787\n",
    "        \n",
    "    # add the constant\n",
    "    result += -4.789594\n",
    "        \n",
    "    return np.exp(result) / (1 + np.exp(result))"
   ]
  },
  {
   "cell_type": "code",
   "execution_count": 8,
   "metadata": {},
   "outputs": [],
   "source": [
    "es_i_logistic = []\n",
    "for index, row in euroscore_i.iterrows():\n",
    "    es_i_logistic.append(calculate_euroscore_i_logistic(row))\n",
    "assert len(es_i_logistic) == euroscore_i.shape[0]\n",
    "es_i_logistic = pd.DataFrame(es_i_logistic, index=euroscore_i.index, columns=['es_i_logistic'])\n",
    "assert euroscore_i.shape[0] == es_i_logistic.shape[0]\n",
    "\n",
    "# write to csv\n",
    "es_i_logistic.to_csv('test.esi.score.17.02.20.csv')"
   ]
  },
  {
   "cell_type": "code",
   "execution_count": 9,
   "metadata": {},
   "outputs": [
    {
     "data": {
      "text/plain": [
       "<seaborn.axisgrid.FacetGrid at 0x1ee232de160>"
      ]
     },
     "execution_count": 9,
     "metadata": {},
     "output_type": "execute_result"
    },
    {
     "data": {
      "image/png": "[encoded data removed]",
      "text/plain": [
       "<Figure size 360x360 with 1 Axes>"
      ]
     },
     "metadata": {
      "needs_background": "light"
     },
     "output_type": "display_data"
    }
   ],
   "source": [
    "# plot calculated euroscore I logistic against provided values\n",
    "scores = pd.concat([es_i_logistic_supplied['Logistic_Euroscore'], es_i_logistic], axis=1)\n",
    "scores = scores.dropna(axis='index')\n",
    "sns.lmplot(y=\"Logistic_Euroscore\", x=\"es_i_logistic\", data=scores)"
   ]
  },
  {
   "cell_type": "code",
   "execution_count": 10,
   "metadata": {},
   "outputs": [
    {
     "data": {
      "text/plain": [
       "0.4710103271226104"
      ]
     },
     "execution_count": 10,
     "metadata": {},
     "output_type": "execute_result"
    }
   ],
   "source": [
    "# r2 for calculated euroscore I logistic against provided values\n",
    "r2_score(scores['Logistic_Euroscore'], scores['es_i_logistic'])"
   ]
  },
  {
   "cell_type": "code",
   "execution_count": 11,
   "metadata": {},
   "outputs": [
    {
     "data": {
      "text/plain": [
       "0.7595585704987122"
      ]
     },
     "execution_count": 11,
     "metadata": {},
     "output_type": "execute_result"
    }
   ],
   "source": [
    "# roc curve for euroscore I logistic\n",
    "fpr, tpr, thresholds = metrics.roc_curve(euroscore_i['STATUS_DISCHARGE'], es_i_logistic['es_i_logistic'], pos_label=1)\n",
    "metrics.auc(fpr, tpr)"
   ]
  },
  {
   "cell_type": "markdown",
   "metadata": {},
   "source": [
    "### ESII Logistic model"
   ]
  },
  {
   "cell_type": "code",
   "execution_count": 12,
   "metadata": {},
   "outputs": [],
   "source": [
    "def calculate_euroscore_ii_logistic(row):\n",
    "    result = 0\n",
    "    \n",
    "    if row['NYHA - II']:\n",
    "        result += 0.1070545\n",
    "    \n",
    "    if row['NYHA - III']:\n",
    "        result += 0.2958358\n",
    "    \n",
    "    if row['NYHA - IV']:\n",
    "        result += 0.5597929\n",
    "    \n",
    "    if row['CCS4']:\n",
    "        result += 0.2226147\n",
    "        \n",
    "    if row['IDDM']:\n",
    "        result += 0.3542749\n",
    "    \n",
    "    if row['IDDM']:\n",
    "        result += 0.3542749\n",
    "    \n",
    "    if row['Age'] <= 60:\n",
    "        result += 0.0285181\n",
    "    else:\n",
    "        (row['Age'] - 60) * 0.0285181\n",
    "        \n",
    "    if row['Female']:\n",
    "        result += 0.2196434\n",
    "    \n",
    "    if row['ECA']:\n",
    "        result += 0.5360268\n",
    "        \n",
    "    if row['CPD']:\n",
    "        result += 0.1886564\n",
    "    \n",
    "    if row['N/M mob']:\n",
    "        result += 0.2407181\n",
    "    \n",
    "    if row['Redo']:\n",
    "        result += 01.118599\n",
    "    \n",
    "    if row['Renal dysfunction - On dialysis']:\n",
    "        result +=  0.6421508\n",
    "    \n",
    "    if row['Renal dysfunction - CC <= 50']:\n",
    "        result +=  0.8592256\n",
    "        \n",
    "    if row['Renal dysfunction - CC 50−85']:\n",
    "        result +=  0.303553\n",
    "        \n",
    "    if row['AE']:\n",
    "        result +=  0.6194522\n",
    "        \n",
    "    if row['Critical']:\n",
    "        result +=  1.086517\n",
    "    \n",
    "    if row['LV function - Moderate']:\n",
    "        result += 0.3150652\n",
    "        \n",
    "    if row['LV function - Poor']:\n",
    "        result += 0.8084096\n",
    "    \n",
    "    #if row['LV function - Very poor']:\n",
    "    #    result +=  0.9346919\n",
    "    \n",
    "    if row['Recent MI']:\n",
    "        result +=  0.1528943\n",
    "        \n",
    "    if row['PA systolic pressure - 31–55 mmHg']:\n",
    "        result +=  0.1788899\n",
    "    \n",
    "    if row['PA systolic pressure - >=55 mmHg']:\n",
    "        result +=  0.3491475\n",
    "    \n",
    "    if row['Urgency - Urgent']:\n",
    "        result +=  0.3174673\n",
    "    \n",
    "    if row['Urgency - Emergency']:\n",
    "        result +=  0.7039121\n",
    "    \n",
    "    if row['Urgency - Salvage']:\n",
    "        result +=   1.362947\n",
    "    \n",
    "    if row['Weight of procedure - 1 non-CABG']:\n",
    "        result +=   0.0062118\n",
    "    \n",
    "    if row['Weight of procedure - 2']:\n",
    "        result +=   0.5521478\n",
    "        \n",
    "    if row['Weight of procedure - 3+']:\n",
    "        result +=   0.9724533\n",
    "        \n",
    "    if row['Thoracic aorta']:\n",
    "        result +=  0.6527205\n",
    "    \n",
    "    # add the constant\n",
    "    result += -5.324537\n",
    "        \n",
    "    return np.exp(result) / (1 + np.exp(result))"
   ]
  },
  {
   "cell_type": "code",
   "execution_count": 13,
   "metadata": {},
   "outputs": [],
   "source": [
    "es_ii_logistic = []\n",
    "for index, row in euroscore_ii.iterrows():\n",
    "    es_ii_logistic.append(calculate_euroscore_ii_logistic(row))\n",
    "assert len(es_ii_logistic) == euroscore_ii.shape[0]\n",
    "es_ii_logistic = pd.DataFrame(es_ii_logistic, index=euroscore_ii.index, columns=['es_ii_logistic'])\n",
    "\n",
    "# write to csv\n",
    "es_ii_logistic.to_csv('test.esii.score.17.02.20.csv')"
   ]
  },
  {
   "cell_type": "code",
   "execution_count": 14,
   "metadata": {
    "scrolled": true
   },
   "outputs": [
    {
     "data": {
      "text/plain": [
       "<seaborn.axisgrid.FacetGrid at 0x1ee236725c0>"
      ]
     },
     "execution_count": 14,
     "metadata": {},
     "output_type": "execute_result"
    },
    {
     "data": {
      "image/png": "[encoded data removed]",
      "text/plain": [
       "<Figure size 360x360 with 1 Axes>"
      ]
     },
     "metadata": {
      "needs_background": "light"
     },
     "output_type": "display_data"
    }
   ],
   "source": [
    "# plot calculated euroscore II logistic against provided euroscore I logistic to check for extreme error\n",
    "scores = pd.concat([es_i_logistic_supplied['Logistic_Euroscore'], es_ii_logistic], axis=1)\n",
    "scores = scores.dropna(axis='index')\n",
    "sns.lmplot(y=\"Logistic_Euroscore\", x=\"es_ii_logistic\", data=scores)"
   ]
  },
  {
   "cell_type": "code",
   "execution_count": 15,
   "metadata": {},
   "outputs": [
    {
     "data": {
      "text/plain": [
       "0.18201866668615652"
      ]
     },
     "execution_count": 15,
     "metadata": {},
     "output_type": "execute_result"
    }
   ],
   "source": [
    "# r2 for calculated euroscore II logistic against provided euroscore I logistic to check for extreme error\n",
    "r2_score(scores['Logistic_Euroscore'], scores['es_ii_logistic'])"
   ]
  },
  {
   "cell_type": "code",
   "execution_count": 16,
   "metadata": {},
   "outputs": [
    {
     "data": {
      "text/plain": [
       "0.7704637641968631"
      ]
     },
     "execution_count": 16,
     "metadata": {},
     "output_type": "execute_result"
    }
   ],
   "source": [
    "# roc curve for euroscore II logistic\n",
    "fpr, tpr, thresholds = metrics.roc_curve(euroscore_ii['STATUS_DISCHARGE'], es_ii_logistic['es_ii_logistic'], pos_label=1)\n",
    "metrics.auc(fpr, tpr)"
   ]
  }
 ],
 "metadata": {
  "kernelspec": {
   "display_name": "Python 3",
   "language": "python",
   "name": "python3"
  },
  "language_info": {
   "codemirror_mode": {
    "name": "ipython",
    "version": 3
   },
   "file_extension": ".py",
   "mimetype": "text/x-python",
   "name": "python",
   "nbconvert_exporter": "python",
   "pygments_lexer": "ipython3",
   "version": "3.7.3"
  }
 },
 "nbformat": 4,
 "nbformat_minor": 2
}
